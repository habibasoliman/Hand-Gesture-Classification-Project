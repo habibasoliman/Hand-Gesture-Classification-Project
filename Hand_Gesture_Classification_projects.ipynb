{
  "cells": [
    {
      "cell_type": "code",
      "execution_count": 1,
      "metadata": {
        "id": "8tO9_F2bcQC8"
      },
      "outputs": [],
      "source": [
        "# Import required libraries\n",
        "import pandas as pd\n",
        "import numpy as np\n",
        "import matplotlib.pyplot as plt\n",
        "import seaborn as sns\n",
        "from sklearn.model_selection import train_test_split\n",
        "from sklearn.preprocessing import OneHotEncoder\n",
        "from sklearn.preprocessing import LabelEncoder\n",
        "from sklearn.svm import SVC\n",
        "from sklearn.ensemble import RandomForestClassifier\n",
        "from xgboost import XGBClassifier\n",
        "import xgboost as xgb\n",
        "from sklearn.ensemble import GradientBoostingClassifier\n",
        "from sklearn.linear_model import LogisticRegression\n",
        "from sklearn.neighbors import KNeighborsClassifier\n",
        "from sklearn.metrics import accuracy_score, precision_score, recall_score, f1_score\n",
        "from sklearn.model_selection import GridSearchCV\n",
        "import cv2\n",
        "import mediapipe as mp\n",
        "import joblib\n",
        "import pickle"
      ]
    },
    {
      "cell_type": "markdown",
      "metadata": {
        "id": "bmd01NmzpqRH"
      },
      "source": [
        "# **Data Loading**\n",
        "\n"
      ]
    },
    {
      "cell_type": "code",
      "execution_count": 2,
      "metadata": {
        "colab": {
          "base_uri": "https://localhost:8080/",
          "height": 342
        },
        "id": "dZUoOlIicpJt",
        "outputId": "38cad21a-48d7-4063-ac8a-0c9fa5783c8a"
      },
      "outputs": [
        {
          "data": {
            "text/html": [
              "<div>\n",
              "<style scoped>\n",
              "    .dataframe tbody tr th:only-of-type {\n",
              "        vertical-align: middle;\n",
              "    }\n",
              "\n",
              "    .dataframe tbody tr th {\n",
              "        vertical-align: top;\n",
              "    }\n",
              "\n",
              "    .dataframe thead th {\n",
              "        text-align: right;\n",
              "    }\n",
              "</style>\n",
              "<table border=\"1\" class=\"dataframe\">\n",
              "  <thead>\n",
              "    <tr style=\"text-align: right;\">\n",
              "      <th></th>\n",
              "      <th>x1</th>\n",
              "      <th>y1</th>\n",
              "      <th>z1</th>\n",
              "      <th>x2</th>\n",
              "      <th>y2</th>\n",
              "      <th>z2</th>\n",
              "      <th>x3</th>\n",
              "      <th>y3</th>\n",
              "      <th>z3</th>\n",
              "      <th>x4</th>\n",
              "      <th>...</th>\n",
              "      <th>x19</th>\n",
              "      <th>y19</th>\n",
              "      <th>z19</th>\n",
              "      <th>x20</th>\n",
              "      <th>y20</th>\n",
              "      <th>z20</th>\n",
              "      <th>x21</th>\n",
              "      <th>y21</th>\n",
              "      <th>z21</th>\n",
              "      <th>label</th>\n",
              "    </tr>\n",
              "  </thead>\n",
              "  <tbody>\n",
              "    <tr>\n",
              "      <th>0</th>\n",
              "      <td>262.669968</td>\n",
              "      <td>257.304901</td>\n",
              "      <td>-3.649205e-07</td>\n",
              "      <td>257.417542</td>\n",
              "      <td>247.109055</td>\n",
              "      <td>0.004224</td>\n",
              "      <td>246.882957</td>\n",
              "      <td>241.716827</td>\n",
              "      <td>0.005798</td>\n",
              "      <td>236.384537</td>\n",
              "      <td>...</td>\n",
              "      <td>223.345093</td>\n",
              "      <td>255.490692</td>\n",
              "      <td>-0.020450</td>\n",
              "      <td>215.043365</td>\n",
              "      <td>258.114746</td>\n",
              "      <td>-0.024577</td>\n",
              "      <td>208.006393</td>\n",
              "      <td>259.608673</td>\n",
              "      <td>-0.026722</td>\n",
              "      <td>call</td>\n",
              "    </tr>\n",
              "    <tr>\n",
              "      <th>1</th>\n",
              "      <td>83.351778</td>\n",
              "      <td>346.059113</td>\n",
              "      <td>-2.345265e-07</td>\n",
              "      <td>81.925037</td>\n",
              "      <td>328.562347</td>\n",
              "      <td>-0.011102</td>\n",
              "      <td>90.080132</td>\n",
              "      <td>311.535248</td>\n",
              "      <td>-0.021096</td>\n",
              "      <td>95.641823</td>\n",
              "      <td>...</td>\n",
              "      <td>132.451618</td>\n",
              "      <td>341.794434</td>\n",
              "      <td>-0.038175</td>\n",
              "      <td>142.773582</td>\n",
              "      <td>342.829254</td>\n",
              "      <td>-0.037336</td>\n",
              "      <td>152.431698</td>\n",
              "      <td>343.015991</td>\n",
              "      <td>-0.036136</td>\n",
              "      <td>call</td>\n",
              "    </tr>\n",
              "    <tr>\n",
              "      <th>2</th>\n",
              "      <td>187.756977</td>\n",
              "      <td>260.235492</td>\n",
              "      <td>-2.417307e-07</td>\n",
              "      <td>195.460579</td>\n",
              "      <td>241.506035</td>\n",
              "      <td>-0.000184</td>\n",
              "      <td>207.259529</td>\n",
              "      <td>223.674339</td>\n",
              "      <td>-0.009687</td>\n",
              "      <td>215.413628</td>\n",
              "      <td>...</td>\n",
              "      <td>250.301010</td>\n",
              "      <td>268.602938</td>\n",
              "      <td>-0.044068</td>\n",
              "      <td>262.425133</td>\n",
              "      <td>271.276638</td>\n",
              "      <td>-0.040469</td>\n",
              "      <td>272.989952</td>\n",
              "      <td>272.272231</td>\n",
              "      <td>-0.038301</td>\n",
              "      <td>call</td>\n",
              "    </tr>\n",
              "    <tr>\n",
              "      <th>3</th>\n",
              "      <td>114.976696</td>\n",
              "      <td>331.594238</td>\n",
              "      <td>-1.233261e-07</td>\n",
              "      <td>114.503494</td>\n",
              "      <td>320.549957</td>\n",
              "      <td>-0.002824</td>\n",
              "      <td>116.636627</td>\n",
              "      <td>310.080994</td>\n",
              "      <td>-0.008911</td>\n",
              "      <td>117.685066</td>\n",
              "      <td>...</td>\n",
              "      <td>145.195450</td>\n",
              "      <td>329.357544</td>\n",
              "      <td>-0.027622</td>\n",
              "      <td>151.053200</td>\n",
              "      <td>329.712341</td>\n",
              "      <td>-0.027863</td>\n",
              "      <td>155.990364</td>\n",
              "      <td>329.548828</td>\n",
              "      <td>-0.027723</td>\n",
              "      <td>call</td>\n",
              "    </tr>\n",
              "    <tr>\n",
              "      <th>4</th>\n",
              "      <td>188.795288</td>\n",
              "      <td>141.727867</td>\n",
              "      <td>-1.622995e-07</td>\n",
              "      <td>188.520905</td>\n",
              "      <td>127.947464</td>\n",
              "      <td>-0.002884</td>\n",
              "      <td>191.982880</td>\n",
              "      <td>111.010563</td>\n",
              "      <td>-0.008115</td>\n",
              "      <td>192.552521</td>\n",
              "      <td>...</td>\n",
              "      <td>226.696396</td>\n",
              "      <td>132.263248</td>\n",
              "      <td>-0.025113</td>\n",
              "      <td>234.831741</td>\n",
              "      <td>130.684147</td>\n",
              "      <td>-0.024087</td>\n",
              "      <td>241.587769</td>\n",
              "      <td>128.477188</td>\n",
              "      <td>-0.023486</td>\n",
              "      <td>call</td>\n",
              "    </tr>\n",
              "  </tbody>\n",
              "</table>\n",
              "<p>5 rows × 64 columns</p>\n",
              "</div>"
            ],
            "text/plain": [
              "           x1          y1            z1          x2          y2        z2  \\\n",
              "0  262.669968  257.304901 -3.649205e-07  257.417542  247.109055  0.004224   \n",
              "1   83.351778  346.059113 -2.345265e-07   81.925037  328.562347 -0.011102   \n",
              "2  187.756977  260.235492 -2.417307e-07  195.460579  241.506035 -0.000184   \n",
              "3  114.976696  331.594238 -1.233261e-07  114.503494  320.549957 -0.002824   \n",
              "4  188.795288  141.727867 -1.622995e-07  188.520905  127.947464 -0.002884   \n",
              "\n",
              "           x3          y3        z3          x4  ...         x19         y19  \\\n",
              "0  246.882957  241.716827  0.005798  236.384537  ...  223.345093  255.490692   \n",
              "1   90.080132  311.535248 -0.021096   95.641823  ...  132.451618  341.794434   \n",
              "2  207.259529  223.674339 -0.009687  215.413628  ...  250.301010  268.602938   \n",
              "3  116.636627  310.080994 -0.008911  117.685066  ...  145.195450  329.357544   \n",
              "4  191.982880  111.010563 -0.008115  192.552521  ...  226.696396  132.263248   \n",
              "\n",
              "        z19         x20         y20       z20         x21         y21  \\\n",
              "0 -0.020450  215.043365  258.114746 -0.024577  208.006393  259.608673   \n",
              "1 -0.038175  142.773582  342.829254 -0.037336  152.431698  343.015991   \n",
              "2 -0.044068  262.425133  271.276638 -0.040469  272.989952  272.272231   \n",
              "3 -0.027622  151.053200  329.712341 -0.027863  155.990364  329.548828   \n",
              "4 -0.025113  234.831741  130.684147 -0.024087  241.587769  128.477188   \n",
              "\n",
              "        z21  label  \n",
              "0 -0.026722   call  \n",
              "1 -0.036136   call  \n",
              "2 -0.038301   call  \n",
              "3 -0.027723   call  \n",
              "4 -0.023486   call  \n",
              "\n",
              "[5 rows x 64 columns]"
            ]
          },
          "execution_count": 2,
          "metadata": {},
          "output_type": "execute_result"
        }
      ],
      "source": [
        "#load the dataset\n",
        "data = pd.read_csv('hand_landmarks_data.csv')\n",
        "data.head()"
      ]
    },
    {
      "cell_type": "markdown",
      "metadata": {
        "id": "olYVB57lp9J9"
      },
      "source": [
        "# **Data Exploration**\n"
      ]
    },
    {
      "cell_type": "code",
      "execution_count": 3,
      "metadata": {
        "colab": {
          "base_uri": "https://localhost:8080/"
        },
        "id": "QgBFRRjGc1F1",
        "outputId": "13c825f3-01c1-4f4f-e8c2-4b6e7a9c4137"
      },
      "outputs": [
        {
          "name": "stdout",
          "output_type": "stream",
          "text": [
            "<class 'pandas.core.frame.DataFrame'>\n",
            "RangeIndex: 25675 entries, 0 to 25674\n",
            "Data columns (total 64 columns):\n",
            " #   Column  Non-Null Count  Dtype  \n",
            "---  ------  --------------  -----  \n",
            " 0   x1      25675 non-null  float64\n",
            " 1   y1      25675 non-null  float64\n",
            " 2   z1      25675 non-null  float64\n",
            " 3   x2      25675 non-null  float64\n",
            " 4   y2      25675 non-null  float64\n",
            " 5   z2      25675 non-null  float64\n",
            " 6   x3      25675 non-null  float64\n",
            " 7   y3      25675 non-null  float64\n",
            " 8   z3      25675 non-null  float64\n",
            " 9   x4      25675 non-null  float64\n",
            " 10  y4      25675 non-null  float64\n",
            " 11  z4      25675 non-null  float64\n",
            " 12  x5      25675 non-null  float64\n",
            " 13  y5      25675 non-null  float64\n",
            " 14  z5      25675 non-null  float64\n",
            " 15  x6      25675 non-null  float64\n",
            " 16  y6      25675 non-null  float64\n",
            " 17  z6      25675 non-null  float64\n",
            " 18  x7      25675 non-null  float64\n",
            " 19  y7      25675 non-null  float64\n",
            " 20  z7      25675 non-null  float64\n",
            " 21  x8      25675 non-null  float64\n",
            " 22  y8      25675 non-null  float64\n",
            " 23  z8      25675 non-null  float64\n",
            " 24  x9      25675 non-null  float64\n",
            " 25  y9      25675 non-null  float64\n",
            " 26  z9      25675 non-null  float64\n",
            " 27  x10     25675 non-null  float64\n",
            " 28  y10     25675 non-null  float64\n",
            " 29  z10     25675 non-null  float64\n",
            " 30  x11     25675 non-null  float64\n",
            " 31  y11     25675 non-null  float64\n",
            " 32  z11     25675 non-null  float64\n",
            " 33  x12     25675 non-null  float64\n",
            " 34  y12     25675 non-null  float64\n",
            " 35  z12     25675 non-null  float64\n",
            " 36  x13     25675 non-null  float64\n",
            " 37  y13     25675 non-null  float64\n",
            " 38  z13     25675 non-null  float64\n",
            " 39  x14     25675 non-null  float64\n",
            " 40  y14     25675 non-null  float64\n",
            " 41  z14     25675 non-null  float64\n",
            " 42  x15     25675 non-null  float64\n",
            " 43  y15     25675 non-null  float64\n",
            " 44  z15     25675 non-null  float64\n",
            " 45  x16     25675 non-null  float64\n",
            " 46  y16     25675 non-null  float64\n",
            " 47  z16     25675 non-null  float64\n",
            " 48  x17     25675 non-null  float64\n",
            " 49  y17     25675 non-null  float64\n",
            " 50  z17     25675 non-null  float64\n",
            " 51  x18     25675 non-null  float64\n",
            " 52  y18     25675 non-null  float64\n",
            " 53  z18     25675 non-null  float64\n",
            " 54  x19     25675 non-null  float64\n",
            " 55  y19     25675 non-null  float64\n",
            " 56  z19     25675 non-null  float64\n",
            " 57  x20     25675 non-null  float64\n",
            " 58  y20     25675 non-null  float64\n",
            " 59  z20     25675 non-null  float64\n",
            " 60  x21     25675 non-null  float64\n",
            " 61  y21     25675 non-null  float64\n",
            " 62  z21     25675 non-null  float64\n",
            " 63  label   25675 non-null  object \n",
            "dtypes: float64(63), object(1)\n",
            "memory usage: 12.5+ MB\n"
          ]
        }
      ],
      "source": [
        "# check nulls & data formats\n",
        "data.info()"
      ]
    },
    {
      "cell_type": "markdown",
      "metadata": {
        "id": "7hUQzvbjSHJM"
      },
      "source": [
        "There is no null values and all data are exist in the required format"
      ]
    },
    {
      "cell_type": "code",
      "execution_count": 28,
      "metadata": {
        "colab": {
          "base_uri": "https://localhost:8080/"
        },
        "id": "MiCnLT_vc6Q-",
        "outputId": "a80e3b8c-be7f-4bc0-9d08-df21c91d52f1"
      },
      "outputs": [
        {
          "data": {
            "text/plain": [
              "np.int64(0)"
            ]
          },
          "execution_count": 28,
          "metadata": {},
          "output_type": "execute_result"
        }
      ],
      "source": [
        "#check for duplicates\n",
        "data.duplicated().sum()"
      ]
    },
    {
      "cell_type": "markdown",
      "metadata": {
        "id": "ipZL6LeTSRvV"
      },
      "source": [
        "There is no duplicates on data"
      ]
    },
    {
      "cell_type": "markdown",
      "metadata": {
        "id": "N2bhhyid17mT"
      },
      "source": [
        "# **Data Visualization**"
      ]
    },
    {
      "cell_type": "code",
      "execution_count": 31,
      "metadata": {
        "colab": {
          "base_uri": "https://localhost:8080/",
          "height": 661
        },
        "id": "QV7I3CztQ0Ja",
        "outputId": "be238d0b-a77a-43fd-f3d2-a2a453f98c1a"
      },
      "outputs": [
        {
          "data": {
            "image/png": "[encoded data removed]",
            "text/plain": [
              "<Figure size 1600x600 with 1 Axes>"
            ]
          },
          "metadata": {},
          "output_type": "display_data"
        }
      ],
      "source": [
        "# Check if data is balanced or not ?\n",
        "plt.figure(figsize=(16, 6))\n",
        "sns.countplot(x=data['label'])\n",
        "plt.title('Distribution of Gesture Classes')\n",
        "plt.xlabel('Gesture')\n",
        "plt.ylabel('Count')\n",
        "plt.xticks(rotation=45)\n",
        "plt.show()\n"
      ]
    },
    {
      "cell_type": "markdown",
      "metadata": {
        "id": "TXSy4xbZRVcq"
      },
      "source": [
        "After visualizing the distribution of gesture classes, we observe that the dataset is nearly balanced."
      ]
    },
    {
      "cell_type": "code",
      "execution_count": 33,
      "metadata": {
        "colab": {
          "base_uri": "https://localhost:8080/",
          "height": 718
        },
        "id": "efD6cCCsRaH-",
        "outputId": "029f9c7b-d919-4c57-b810-8a4828e190a6"
      },
      "outputs": [
        {
          "data": {
            "image/png": "[encoded data removed]",
            "text/plain": [
              "<Figure size 800x800 with 1 Axes>"
            ]
          },
          "metadata": {},
          "output_type": "display_data"
        }
      ],
      "source": [
        "# Check if data points are in the same scale or not ?\n",
        "num_samples = 10\n",
        "x_cols = [f'x{i}' for i in range(1, 22)]\n",
        "y_cols = [f'y{i}' for i in range(1, 22)]\n",
        "\n",
        "plt.figure(figsize=(8, 8))\n",
        "\n",
        "# Loop through the first 5 samples\n",
        "for i in range(min(num_samples, len(data))):\n",
        "    x = data.iloc[i][x_cols].values\n",
        "    y = data.iloc[i][y_cols].values\n",
        "\n",
        "    # Calculate bounding box corners\n",
        "    xmin, xmax = x.min(), x.max()\n",
        "    ymin, ymax = y.min(), y.max()\n",
        "\n",
        "    # Draw rectangle and scatter points\n",
        "    plt.gca().add_patch(\n",
        "        plt.Rectangle((xmin, ymin), xmax - xmin, ymax - ymin,\n",
        "                      fill=False, edgecolor=f'C{i}', linewidth=2, label=f'Sample {i+1}')\n",
        "    )\n",
        "    plt.scatter(x, y, color=f'C{i}', alpha=0.6)\n",
        "\n",
        "plt.title('Hand Bounding Boxes Before Normalization')\n",
        "plt.xlabel('X coordinate')\n",
        "plt.ylabel('Y coordinate')\n",
        "plt.legend()\n",
        "plt.grid(True)\n",
        "plt.show()\n"
      ]
    },
    {
      "cell_type": "markdown",
      "metadata": {
        "id": "X7A6e-5RRfjS"
      },
      "source": [
        "After plotting the bounding boxes for multiple hand samples, we observe a clear variation in scale across different hand instances.\n",
        "This indicates that:\n",
        "\n",
        "*   The hands in the dataset appear at different scales, meaning some hands are much larger or smaller than others.\n",
        "*   This variation could be due to differences in camera distance, hand positioning, or subject differences (e.g., adults vs. children).\n",
        "\n",
        "so we will need to apply normalization by scaling all hand landmarks based on wrist-to-mid-finger distance.\n",
        "\n"
      ]
    },
    {
      "cell_type": "markdown",
      "metadata": {
        "id": "OQge8SXAsUTU"
      },
      "source": [
        "# **Data Preproccesing**"
      ]
    },
    {
      "cell_type": "code",
      "execution_count": 3,
      "metadata": {
        "id": "GSUGDrgBoP7f"
      },
      "outputs": [],
      "source": [
        "#Data Splitting\n",
        "features = data.drop(['label'] , axis= 1)\n",
        "labels = data[['label']]\n",
        "\n",
        "#split the data into train and test 70% and 30%\n",
        "features_train ,features_dev_test ,labels_train,labels_dev_test = train_test_split(features ,labels ,test_size=0.3)\n",
        "\n",
        "#split the test into dev (validation) and test 15% and 15%\n",
        "features_dev , features_test ,labels_dev , labels_test = train_test_split(features_dev_test ,labels_dev_test , test_size=0.5)\n"
      ]
    },
    {
      "cell_type": "code",
      "execution_count": 4,
      "metadata": {
        "colab": {
          "base_uri": "https://localhost:8080/"
        },
        "id": "R2Gd5WAm6ASY",
        "outputId": "55faf22e-f419-4bfd-abf2-ca3d03181ccc"
      },
      "outputs": [
        {
          "name": "stderr",
          "output_type": "stream",
          "text": [
            "c:\\Users\\habib\\AppData\\Local\\Programs\\Python\\Python312\\Lib\\site-packages\\sklearn\\preprocessing\\_label.py:114: DataConversionWarning: A column-vector y was passed when a 1d array was expected. Please change the shape of y to (n_samples, ), for example using ravel().\n",
            "  y = column_or_1d(y, warn=True)\n",
            "c:\\Users\\habib\\AppData\\Local\\Programs\\Python\\Python312\\Lib\\site-packages\\sklearn\\preprocessing\\_label.py:132: DataConversionWarning: A column-vector y was passed when a 1d array was expected. Please change the shape of y to (n_samples, ), for example using ravel().\n",
            "  y = column_or_1d(y, dtype=self.classes_.dtype, warn=True)\n",
            "c:\\Users\\habib\\AppData\\Local\\Programs\\Python\\Python312\\Lib\\site-packages\\sklearn\\preprocessing\\_label.py:132: DataConversionWarning: A column-vector y was passed when a 1d array was expected. Please change the shape of y to (n_samples, ), for example using ravel().\n",
            "  y = column_or_1d(y, dtype=self.classes_.dtype, warn=True)\n"
          ]
        }
      ],
      "source": [
        "#Label Encoding\n",
        "encoder = LabelEncoder()\n",
        "#fit only on the train set to avoid data lakeage and just apply transform on dev and test sets\n",
        "Encoded_labels_train = encoder.fit_transform(labels_train[['label']])\n",
        "Encoded_labels_dev = encoder.transform(labels_dev[['label']])\n",
        "Encoded_labels_test = encoder.transform(labels_test[['label']])\n",
        "\n",
        "\n",
        "# Save the fitted encoder\n",
        "with open('label_encoder.pkl', 'wb') as f:\n",
        "    pickle.dump(encoder, f)"
      ]
    },
    {
      "cell_type": "code",
      "execution_count": 5,
      "metadata": {
        "id": "V96HHUJ43RE_"
      },
      "outputs": [],
      "source": [
        "def recenter_and_normalize(df):\n",
        "    # Extract wrist position (x1, y1)\n",
        "    wrist_x = df['x1']\n",
        "    wrist_y = df['y1']\n",
        "\n",
        "    # Extract mid-finger tip position (x13, y13)\n",
        "    mid_finger_x = df['x13']\n",
        "    mid_finger_y = df['y13']\n",
        "\n",
        "    # Compute Euclidean distance for scale normalization\n",
        "    scale = np.sqrt((mid_finger_x - wrist_x) ** 2 + (mid_finger_y - wrist_y) ** 2)\n",
        "\n",
        "    # Prevent division by zero\n",
        "    scale[scale == 0] = 1\n",
        "\n",
        "    # Normalize all landmark positions\n",
        "    for i in range(1, 22):\n",
        "        df[f'x{i}'] = (df[f'x{i}'] - wrist_x) / scale\n",
        "        df[f'y{i}'] = (df[f'y{i}'] - wrist_y) / scale\n",
        "\n",
        "    return df\n",
        "\n",
        "# Apply the normalization to training, dev, and test datasets\n",
        "features_train_normalized = recenter_and_normalize(features_train.copy())\n",
        "features_dev_normalized = recenter_and_normalize(features_dev.copy())\n",
        "features_test_normalized = recenter_and_normalize(features_test.copy())"
      ]
    },
    {
      "cell_type": "code",
      "execution_count": 6,
      "metadata": {
        "colab": {
          "base_uri": "https://localhost:8080/",
          "height": 342
        },
        "id": "E-6TCz7OwXqd",
        "outputId": "c918f611-ec09-4bc3-e381-33fe8863cdad"
      },
      "outputs": [
        {
          "data": {
            "text/html": [
              "<div>\n",
              "<style scoped>\n",
              "    .dataframe tbody tr th:only-of-type {\n",
              "        vertical-align: middle;\n",
              "    }\n",
              "\n",
              "    .dataframe tbody tr th {\n",
              "        vertical-align: top;\n",
              "    }\n",
              "\n",
              "    .dataframe thead th {\n",
              "        text-align: right;\n",
              "    }\n",
              "</style>\n",
              "<table border=\"1\" class=\"dataframe\">\n",
              "  <thead>\n",
              "    <tr style=\"text-align: right;\">\n",
              "      <th></th>\n",
              "      <th>x1</th>\n",
              "      <th>y1</th>\n",
              "      <th>z1</th>\n",
              "      <th>x2</th>\n",
              "      <th>y2</th>\n",
              "      <th>z2</th>\n",
              "      <th>x3</th>\n",
              "      <th>y3</th>\n",
              "      <th>z3</th>\n",
              "      <th>x4</th>\n",
              "      <th>...</th>\n",
              "      <th>z18</th>\n",
              "      <th>x19</th>\n",
              "      <th>y19</th>\n",
              "      <th>z19</th>\n",
              "      <th>x20</th>\n",
              "      <th>y20</th>\n",
              "      <th>z20</th>\n",
              "      <th>x21</th>\n",
              "      <th>y21</th>\n",
              "      <th>z21</th>\n",
              "    </tr>\n",
              "  </thead>\n",
              "  <tbody>\n",
              "    <tr>\n",
              "      <th>21199</th>\n",
              "      <td>0.0</td>\n",
              "      <td>0.0</td>\n",
              "      <td>8.526775e-08</td>\n",
              "      <td>-0.136860</td>\n",
              "      <td>-0.077566</td>\n",
              "      <td>-0.016838</td>\n",
              "      <td>-0.174604</td>\n",
              "      <td>-0.263032</td>\n",
              "      <td>-0.020742</td>\n",
              "      <td>-0.033224</td>\n",
              "      <td>...</td>\n",
              "      <td>-0.017810</td>\n",
              "      <td>0.148731</td>\n",
              "      <td>-0.506571</td>\n",
              "      <td>-0.030972</td>\n",
              "      <td>0.113463</td>\n",
              "      <td>-0.455798</td>\n",
              "      <td>-0.033278</td>\n",
              "      <td>0.089382</td>\n",
              "      <td>-0.390766</td>\n",
              "      <td>-0.034060</td>\n",
              "    </tr>\n",
              "    <tr>\n",
              "      <th>17709</th>\n",
              "      <td>0.0</td>\n",
              "      <td>0.0</td>\n",
              "      <td>2.561720e-07</td>\n",
              "      <td>-0.160274</td>\n",
              "      <td>-0.118724</td>\n",
              "      <td>-0.020526</td>\n",
              "      <td>-0.231225</td>\n",
              "      <td>-0.305576</td>\n",
              "      <td>-0.028731</td>\n",
              "      <td>-0.236759</td>\n",
              "      <td>...</td>\n",
              "      <td>-0.024157</td>\n",
              "      <td>0.221194</td>\n",
              "      <td>-0.556413</td>\n",
              "      <td>-0.033585</td>\n",
              "      <td>0.224632</td>\n",
              "      <td>-0.647668</td>\n",
              "      <td>-0.034535</td>\n",
              "      <td>0.227142</td>\n",
              "      <td>-0.730690</td>\n",
              "      <td>-0.034710</td>\n",
              "    </tr>\n",
              "    <tr>\n",
              "      <th>21378</th>\n",
              "      <td>0.0</td>\n",
              "      <td>0.0</td>\n",
              "      <td>3.974109e-07</td>\n",
              "      <td>0.144117</td>\n",
              "      <td>-0.114636</td>\n",
              "      <td>-0.019193</td>\n",
              "      <td>0.282772</td>\n",
              "      <td>-0.276103</td>\n",
              "      <td>-0.028773</td>\n",
              "      <td>0.424745</td>\n",
              "      <td>...</td>\n",
              "      <td>-0.026538</td>\n",
              "      <td>-0.173020</td>\n",
              "      <td>-0.334919</td>\n",
              "      <td>-0.040662</td>\n",
              "      <td>-0.105757</td>\n",
              "      <td>-0.257398</td>\n",
              "      <td>-0.039721</td>\n",
              "      <td>-0.090304</td>\n",
              "      <td>-0.245147</td>\n",
              "      <td>-0.034998</td>\n",
              "    </tr>\n",
              "    <tr>\n",
              "      <th>14980</th>\n",
              "      <td>0.0</td>\n",
              "      <td>0.0</td>\n",
              "      <td>4.536033e-07</td>\n",
              "      <td>-0.103228</td>\n",
              "      <td>-0.170441</td>\n",
              "      <td>0.001107</td>\n",
              "      <td>-0.101350</td>\n",
              "      <td>-0.334762</td>\n",
              "      <td>-0.006787</td>\n",
              "      <td>-0.011783</td>\n",
              "      <td>...</td>\n",
              "      <td>-0.043292</td>\n",
              "      <td>0.264886</td>\n",
              "      <td>-0.361710</td>\n",
              "      <td>-0.043158</td>\n",
              "      <td>0.232518</td>\n",
              "      <td>-0.292884</td>\n",
              "      <td>-0.034107</td>\n",
              "      <td>0.201373</td>\n",
              "      <td>-0.240510</td>\n",
              "      <td>-0.026214</td>\n",
              "    </tr>\n",
              "    <tr>\n",
              "      <th>7118</th>\n",
              "      <td>0.0</td>\n",
              "      <td>0.0</td>\n",
              "      <td>-1.564405e-07</td>\n",
              "      <td>-0.402930</td>\n",
              "      <td>-0.231856</td>\n",
              "      <td>-0.007478</td>\n",
              "      <td>-0.596714</td>\n",
              "      <td>-0.544819</td>\n",
              "      <td>-0.020595</td>\n",
              "      <td>-0.784148</td>\n",
              "      <td>...</td>\n",
              "      <td>-0.047782</td>\n",
              "      <td>-0.699198</td>\n",
              "      <td>-0.594964</td>\n",
              "      <td>-0.067687</td>\n",
              "      <td>-0.720070</td>\n",
              "      <td>-0.381153</td>\n",
              "      <td>-0.063753</td>\n",
              "      <td>-0.581087</td>\n",
              "      <td>-0.291402</td>\n",
              "      <td>-0.055280</td>\n",
              "    </tr>\n",
              "  </tbody>\n",
              "</table>\n",
              "<p>5 rows × 63 columns</p>\n",
              "</div>"
            ],
            "text/plain": [
              "        x1   y1            z1        x2        y2        z2        x3  \\\n",
              "21199  0.0  0.0  8.526775e-08 -0.136860 -0.077566 -0.016838 -0.174604   \n",
              "17709  0.0  0.0  2.561720e-07 -0.160274 -0.118724 -0.020526 -0.231225   \n",
              "21378  0.0  0.0  3.974109e-07  0.144117 -0.114636 -0.019193  0.282772   \n",
              "14980  0.0  0.0  4.536033e-07 -0.103228 -0.170441  0.001107 -0.101350   \n",
              "7118   0.0  0.0 -1.564405e-07 -0.402930 -0.231856 -0.007478 -0.596714   \n",
              "\n",
              "             y3        z3        x4  ...       z18       x19       y19  \\\n",
              "21199 -0.263032 -0.020742 -0.033224  ... -0.017810  0.148731 -0.506571   \n",
              "17709 -0.305576 -0.028731 -0.236759  ... -0.024157  0.221194 -0.556413   \n",
              "21378 -0.276103 -0.028773  0.424745  ... -0.026538 -0.173020 -0.334919   \n",
              "14980 -0.334762 -0.006787 -0.011783  ... -0.043292  0.264886 -0.361710   \n",
              "7118  -0.544819 -0.020595 -0.784148  ... -0.047782 -0.699198 -0.594964   \n",
              "\n",
              "            z19       x20       y20       z20       x21       y21       z21  \n",
              "21199 -0.030972  0.113463 -0.455798 -0.033278  0.089382 -0.390766 -0.034060  \n",
              "17709 -0.033585  0.224632 -0.647668 -0.034535  0.227142 -0.730690 -0.034710  \n",
              "21378 -0.040662 -0.105757 -0.257398 -0.039721 -0.090304 -0.245147 -0.034998  \n",
              "14980 -0.043158  0.232518 -0.292884 -0.034107  0.201373 -0.240510 -0.026214  \n",
              "7118  -0.067687 -0.720070 -0.381153 -0.063753 -0.581087 -0.291402 -0.055280  \n",
              "\n",
              "[5 rows x 63 columns]"
            ]
          },
          "execution_count": 6,
          "metadata": {},
          "output_type": "execute_result"
        }
      ],
      "source": [
        "features_train_normalized.head()"
      ]
    },
    {
      "cell_type": "code",
      "execution_count": 7,
      "metadata": {
        "colab": {
          "base_uri": "https://localhost:8080/",
          "height": 342
        },
        "id": "xWbYVAvBxC6C",
        "outputId": "cbde5b19-0da2-4928-aba4-fe298c8419d9"
      },
      "outputs": [
        {
          "data": {
            "text/html": [
              "<div>\n",
              "<style scoped>\n",
              "    .dataframe tbody tr th:only-of-type {\n",
              "        vertical-align: middle;\n",
              "    }\n",
              "\n",
              "    .dataframe tbody tr th {\n",
              "        vertical-align: top;\n",
              "    }\n",
              "\n",
              "    .dataframe thead th {\n",
              "        text-align: right;\n",
              "    }\n",
              "</style>\n",
              "<table border=\"1\" class=\"dataframe\">\n",
              "  <thead>\n",
              "    <tr style=\"text-align: right;\">\n",
              "      <th></th>\n",
              "      <th>x1</th>\n",
              "      <th>y1</th>\n",
              "      <th>z1</th>\n",
              "      <th>x2</th>\n",
              "      <th>y2</th>\n",
              "      <th>z2</th>\n",
              "      <th>x3</th>\n",
              "      <th>y3</th>\n",
              "      <th>z3</th>\n",
              "      <th>x4</th>\n",
              "      <th>...</th>\n",
              "      <th>z18</th>\n",
              "      <th>x19</th>\n",
              "      <th>y19</th>\n",
              "      <th>z19</th>\n",
              "      <th>x20</th>\n",
              "      <th>y20</th>\n",
              "      <th>z20</th>\n",
              "      <th>x21</th>\n",
              "      <th>y21</th>\n",
              "      <th>z21</th>\n",
              "    </tr>\n",
              "  </thead>\n",
              "  <tbody>\n",
              "    <tr>\n",
              "      <th>23444</th>\n",
              "      <td>0.0</td>\n",
              "      <td>0.0</td>\n",
              "      <td>2.512591e-07</td>\n",
              "      <td>-0.129266</td>\n",
              "      <td>-0.130931</td>\n",
              "      <td>-0.010260</td>\n",
              "      <td>-0.186794</td>\n",
              "      <td>-0.296814</td>\n",
              "      <td>-0.014895</td>\n",
              "      <td>-0.101720</td>\n",
              "      <td>...</td>\n",
              "      <td>-0.012719</td>\n",
              "      <td>0.120617</td>\n",
              "      <td>-0.456218</td>\n",
              "      <td>-0.022439</td>\n",
              "      <td>0.076120</td>\n",
              "      <td>-0.365147</td>\n",
              "      <td>-0.019699</td>\n",
              "      <td>0.057710</td>\n",
              "      <td>-0.288720</td>\n",
              "      <td>-0.014058</td>\n",
              "    </tr>\n",
              "    <tr>\n",
              "      <th>8809</th>\n",
              "      <td>0.0</td>\n",
              "      <td>0.0</td>\n",
              "      <td>6.244115e-08</td>\n",
              "      <td>-0.133779</td>\n",
              "      <td>-0.076646</td>\n",
              "      <td>-0.012699</td>\n",
              "      <td>-0.246655</td>\n",
              "      <td>-0.209025</td>\n",
              "      <td>-0.024135</td>\n",
              "      <td>-0.366154</td>\n",
              "      <td>...</td>\n",
              "      <td>-0.038556</td>\n",
              "      <td>0.373441</td>\n",
              "      <td>-0.523049</td>\n",
              "      <td>-0.055930</td>\n",
              "      <td>0.458855</td>\n",
              "      <td>-0.622394</td>\n",
              "      <td>-0.062362</td>\n",
              "      <td>0.526289</td>\n",
              "      <td>-0.714700</td>\n",
              "      <td>-0.064737</td>\n",
              "    </tr>\n",
              "    <tr>\n",
              "      <th>21060</th>\n",
              "      <td>0.0</td>\n",
              "      <td>0.0</td>\n",
              "      <td>4.137934e-07</td>\n",
              "      <td>0.100838</td>\n",
              "      <td>-0.058371</td>\n",
              "      <td>-0.020225</td>\n",
              "      <td>0.112719</td>\n",
              "      <td>-0.187913</td>\n",
              "      <td>-0.029084</td>\n",
              "      <td>-0.030838</td>\n",
              "      <td>...</td>\n",
              "      <td>-0.020973</td>\n",
              "      <td>-0.207240</td>\n",
              "      <td>-0.451631</td>\n",
              "      <td>-0.037758</td>\n",
              "      <td>-0.193089</td>\n",
              "      <td>-0.389709</td>\n",
              "      <td>-0.041732</td>\n",
              "      <td>-0.169393</td>\n",
              "      <td>-0.327772</td>\n",
              "      <td>-0.042000</td>\n",
              "    </tr>\n",
              "    <tr>\n",
              "      <th>21285</th>\n",
              "      <td>0.0</td>\n",
              "      <td>0.0</td>\n",
              "      <td>2.893002e-07</td>\n",
              "      <td>-0.148035</td>\n",
              "      <td>-0.026048</td>\n",
              "      <td>-0.024602</td>\n",
              "      <td>-0.210605</td>\n",
              "      <td>-0.182687</td>\n",
              "      <td>-0.033516</td>\n",
              "      <td>-0.079658</td>\n",
              "      <td>...</td>\n",
              "      <td>-0.021792</td>\n",
              "      <td>0.153700</td>\n",
              "      <td>-0.490898</td>\n",
              "      <td>-0.042073</td>\n",
              "      <td>0.119004</td>\n",
              "      <td>-0.417457</td>\n",
              "      <td>-0.047940</td>\n",
              "      <td>0.088706</td>\n",
              "      <td>-0.325787</td>\n",
              "      <td>-0.050042</td>\n",
              "    </tr>\n",
              "    <tr>\n",
              "      <th>15818</th>\n",
              "      <td>0.0</td>\n",
              "      <td>0.0</td>\n",
              "      <td>-4.321227e-07</td>\n",
              "      <td>-0.365930</td>\n",
              "      <td>-0.362597</td>\n",
              "      <td>-0.030302</td>\n",
              "      <td>-0.524301</td>\n",
              "      <td>-0.774132</td>\n",
              "      <td>-0.056942</td>\n",
              "      <td>-0.405890</td>\n",
              "      <td>...</td>\n",
              "      <td>-0.044356</td>\n",
              "      <td>0.803493</td>\n",
              "      <td>-1.711224</td>\n",
              "      <td>-0.062896</td>\n",
              "      <td>0.914092</td>\n",
              "      <td>-2.015061</td>\n",
              "      <td>-0.064119</td>\n",
              "      <td>1.016127</td>\n",
              "      <td>-2.320838</td>\n",
              "      <td>-0.061172</td>\n",
              "    </tr>\n",
              "  </tbody>\n",
              "</table>\n",
              "<p>5 rows × 63 columns</p>\n",
              "</div>"
            ],
            "text/plain": [
              "        x1   y1            z1        x2        y2        z2        x3  \\\n",
              "23444  0.0  0.0  2.512591e-07 -0.129266 -0.130931 -0.010260 -0.186794   \n",
              "8809   0.0  0.0  6.244115e-08 -0.133779 -0.076646 -0.012699 -0.246655   \n",
              "21060  0.0  0.0  4.137934e-07  0.100838 -0.058371 -0.020225  0.112719   \n",
              "21285  0.0  0.0  2.893002e-07 -0.148035 -0.026048 -0.024602 -0.210605   \n",
              "15818  0.0  0.0 -4.321227e-07 -0.365930 -0.362597 -0.030302 -0.524301   \n",
              "\n",
              "             y3        z3        x4  ...       z18       x19       y19  \\\n",
              "23444 -0.296814 -0.014895 -0.101720  ... -0.012719  0.120617 -0.456218   \n",
              "8809  -0.209025 -0.024135 -0.366154  ... -0.038556  0.373441 -0.523049   \n",
              "21060 -0.187913 -0.029084 -0.030838  ... -0.020973 -0.207240 -0.451631   \n",
              "21285 -0.182687 -0.033516 -0.079658  ... -0.021792  0.153700 -0.490898   \n",
              "15818 -0.774132 -0.056942 -0.405890  ... -0.044356  0.803493 -1.711224   \n",
              "\n",
              "            z19       x20       y20       z20       x21       y21       z21  \n",
              "23444 -0.022439  0.076120 -0.365147 -0.019699  0.057710 -0.288720 -0.014058  \n",
              "8809  -0.055930  0.458855 -0.622394 -0.062362  0.526289 -0.714700 -0.064737  \n",
              "21060 -0.037758 -0.193089 -0.389709 -0.041732 -0.169393 -0.327772 -0.042000  \n",
              "21285 -0.042073  0.119004 -0.417457 -0.047940  0.088706 -0.325787 -0.050042  \n",
              "15818 -0.062896  0.914092 -2.015061 -0.064119  1.016127 -2.320838 -0.061172  \n",
              "\n",
              "[5 rows x 63 columns]"
            ]
          },
          "execution_count": 7,
          "metadata": {},
          "output_type": "execute_result"
        }
      ],
      "source": [
        "features_dev_normalized.head()"
      ]
    },
    {
      "cell_type": "code",
      "execution_count": 8,
      "metadata": {
        "colab": {
          "base_uri": "https://localhost:8080/",
          "height": 342
        },
        "id": "EHqVj_q_TiY3",
        "outputId": "210a4ca1-45ca-40ab-80dd-a812f1356d11"
      },
      "outputs": [
        {
          "data": {
            "text/html": [
              "<div>\n",
              "<style scoped>\n",
              "    .dataframe tbody tr th:only-of-type {\n",
              "        vertical-align: middle;\n",
              "    }\n",
              "\n",
              "    .dataframe tbody tr th {\n",
              "        vertical-align: top;\n",
              "    }\n",
              "\n",
              "    .dataframe thead th {\n",
              "        text-align: right;\n",
              "    }\n",
              "</style>\n",
              "<table border=\"1\" class=\"dataframe\">\n",
              "  <thead>\n",
              "    <tr style=\"text-align: right;\">\n",
              "      <th></th>\n",
              "      <th>x1</th>\n",
              "      <th>y1</th>\n",
              "      <th>z1</th>\n",
              "      <th>x2</th>\n",
              "      <th>y2</th>\n",
              "      <th>z2</th>\n",
              "      <th>x3</th>\n",
              "      <th>y3</th>\n",
              "      <th>z3</th>\n",
              "      <th>x4</th>\n",
              "      <th>...</th>\n",
              "      <th>z18</th>\n",
              "      <th>x19</th>\n",
              "      <th>y19</th>\n",
              "      <th>z19</th>\n",
              "      <th>x20</th>\n",
              "      <th>y20</th>\n",
              "      <th>z20</th>\n",
              "      <th>x21</th>\n",
              "      <th>y21</th>\n",
              "      <th>z21</th>\n",
              "    </tr>\n",
              "  </thead>\n",
              "  <tbody>\n",
              "    <tr>\n",
              "      <th>5841</th>\n",
              "      <td>0.0</td>\n",
              "      <td>0.0</td>\n",
              "      <td>-3.583598e-07</td>\n",
              "      <td>0.069679</td>\n",
              "      <td>-0.466490</td>\n",
              "      <td>-0.004751</td>\n",
              "      <td>0.278484</td>\n",
              "      <td>-0.893468</td>\n",
              "      <td>-0.011039</td>\n",
              "      <td>0.414297</td>\n",
              "      <td>...</td>\n",
              "      <td>-0.024706</td>\n",
              "      <td>1.109082</td>\n",
              "      <td>0.002403</td>\n",
              "      <td>-0.024703</td>\n",
              "      <td>0.961115</td>\n",
              "      <td>0.024373</td>\n",
              "      <td>-0.017858</td>\n",
              "      <td>0.815922</td>\n",
              "      <td>0.019016</td>\n",
              "      <td>-0.013540</td>\n",
              "    </tr>\n",
              "    <tr>\n",
              "      <th>23322</th>\n",
              "      <td>0.0</td>\n",
              "      <td>0.0</td>\n",
              "      <td>3.788905e-07</td>\n",
              "      <td>0.152726</td>\n",
              "      <td>-0.088135</td>\n",
              "      <td>-0.018661</td>\n",
              "      <td>0.210961</td>\n",
              "      <td>-0.261129</td>\n",
              "      <td>-0.024617</td>\n",
              "      <td>0.139198</td>\n",
              "      <td>...</td>\n",
              "      <td>-0.018603</td>\n",
              "      <td>-0.122472</td>\n",
              "      <td>-0.466894</td>\n",
              "      <td>-0.040288</td>\n",
              "      <td>-0.078351</td>\n",
              "      <td>-0.368005</td>\n",
              "      <td>-0.037970</td>\n",
              "      <td>-0.056188</td>\n",
              "      <td>-0.278407</td>\n",
              "      <td>-0.030128</td>\n",
              "    </tr>\n",
              "    <tr>\n",
              "      <th>12518</th>\n",
              "      <td>0.0</td>\n",
              "      <td>0.0</td>\n",
              "      <td>1.981137e-07</td>\n",
              "      <td>0.148770</td>\n",
              "      <td>-0.146817</td>\n",
              "      <td>-0.007302</td>\n",
              "      <td>0.202566</td>\n",
              "      <td>-0.317445</td>\n",
              "      <td>-0.010568</td>\n",
              "      <td>0.135398</td>\n",
              "      <td>...</td>\n",
              "      <td>-0.010312</td>\n",
              "      <td>-0.166826</td>\n",
              "      <td>-0.492853</td>\n",
              "      <td>-0.020928</td>\n",
              "      <td>-0.086438</td>\n",
              "      <td>-0.423094</td>\n",
              "      <td>-0.018984</td>\n",
              "      <td>-0.056815</td>\n",
              "      <td>-0.327892</td>\n",
              "      <td>-0.014378</td>\n",
              "    </tr>\n",
              "    <tr>\n",
              "      <th>25415</th>\n",
              "      <td>0.0</td>\n",
              "      <td>0.0</td>\n",
              "      <td>6.942175e-07</td>\n",
              "      <td>0.072415</td>\n",
              "      <td>-0.201456</td>\n",
              "      <td>0.019088</td>\n",
              "      <td>0.004342</td>\n",
              "      <td>-0.369133</td>\n",
              "      <td>0.021232</td>\n",
              "      <td>-0.122647</td>\n",
              "      <td>...</td>\n",
              "      <td>-0.034536</td>\n",
              "      <td>-0.381082</td>\n",
              "      <td>-0.355496</td>\n",
              "      <td>-0.020818</td>\n",
              "      <td>-0.338134</td>\n",
              "      <td>-0.313214</td>\n",
              "      <td>-0.003147</td>\n",
              "      <td>-0.293244</td>\n",
              "      <td>-0.269881</td>\n",
              "      <td>0.011580</td>\n",
              "    </tr>\n",
              "    <tr>\n",
              "      <th>25154</th>\n",
              "      <td>0.0</td>\n",
              "      <td>0.0</td>\n",
              "      <td>4.990213e-07</td>\n",
              "      <td>-0.108128</td>\n",
              "      <td>-0.162453</td>\n",
              "      <td>0.001719</td>\n",
              "      <td>-0.085804</td>\n",
              "      <td>-0.355139</td>\n",
              "      <td>-0.003388</td>\n",
              "      <td>0.025593</td>\n",
              "      <td>...</td>\n",
              "      <td>-0.038117</td>\n",
              "      <td>0.217936</td>\n",
              "      <td>-0.418169</td>\n",
              "      <td>-0.038817</td>\n",
              "      <td>0.186511</td>\n",
              "      <td>-0.354998</td>\n",
              "      <td>-0.029106</td>\n",
              "      <td>0.174466</td>\n",
              "      <td>-0.303239</td>\n",
              "      <td>-0.019159</td>\n",
              "    </tr>\n",
              "  </tbody>\n",
              "</table>\n",
              "<p>5 rows × 63 columns</p>\n",
              "</div>"
            ],
            "text/plain": [
              "        x1   y1            z1        x2        y2        z2        x3  \\\n",
              "5841   0.0  0.0 -3.583598e-07  0.069679 -0.466490 -0.004751  0.278484   \n",
              "23322  0.0  0.0  3.788905e-07  0.152726 -0.088135 -0.018661  0.210961   \n",
              "12518  0.0  0.0  1.981137e-07  0.148770 -0.146817 -0.007302  0.202566   \n",
              "25415  0.0  0.0  6.942175e-07  0.072415 -0.201456  0.019088  0.004342   \n",
              "25154  0.0  0.0  4.990213e-07 -0.108128 -0.162453  0.001719 -0.085804   \n",
              "\n",
              "             y3        z3        x4  ...       z18       x19       y19  \\\n",
              "5841  -0.893468 -0.011039  0.414297  ... -0.024706  1.109082  0.002403   \n",
              "23322 -0.261129 -0.024617  0.139198  ... -0.018603 -0.122472 -0.466894   \n",
              "12518 -0.317445 -0.010568  0.135398  ... -0.010312 -0.166826 -0.492853   \n",
              "25415 -0.369133  0.021232 -0.122647  ... -0.034536 -0.381082 -0.355496   \n",
              "25154 -0.355139 -0.003388  0.025593  ... -0.038117  0.217936 -0.418169   \n",
              "\n",
              "            z19       x20       y20       z20       x21       y21       z21  \n",
              "5841  -0.024703  0.961115  0.024373 -0.017858  0.815922  0.019016 -0.013540  \n",
              "23322 -0.040288 -0.078351 -0.368005 -0.037970 -0.056188 -0.278407 -0.030128  \n",
              "12518 -0.020928 -0.086438 -0.423094 -0.018984 -0.056815 -0.327892 -0.014378  \n",
              "25415 -0.020818 -0.338134 -0.313214 -0.003147 -0.293244 -0.269881  0.011580  \n",
              "25154 -0.038817  0.186511 -0.354998 -0.029106  0.174466 -0.303239 -0.019159  \n",
              "\n",
              "[5 rows x 63 columns]"
            ]
          },
          "execution_count": 8,
          "metadata": {},
          "output_type": "execute_result"
        }
      ],
      "source": [
        "features_test_normalized.head()"
      ]
    },
    {
      "cell_type": "markdown",
      "metadata": {
        "id": "IEPbqkIRxd4F"
      },
      "source": [
        "# **Model Training**"
      ]
    },
    {
      "cell_type": "markdown",
      "metadata": {
        "id": "l4--TD0mT2nz"
      },
      "source": [
        "In this phase, we will begin experimenting with six different classification models to determine which performs best on this task.\n",
        "\n",
        "**The models we will try include**\n",
        "\n",
        "1.    XGBoost\n",
        "2.   Logistic Regression\n",
        "3.   Gradient Boosting\n",
        "4.    K-Nearest Neighbors (KNN)\n",
        "5.    Support Vector Machine (SVM)\n",
        "6.  Random Forest\n",
        "\n",
        "\n",
        "\n",
        "\n",
        "\n",
        "\n",
        " Each of these models has different strengths, and by comparing their performance, we aim to select the most accurate and efficient one for our dataset."
      ]
    },
    {
      "cell_type": "code",
      "execution_count": 43,
      "metadata": {
        "colab": {
          "base_uri": "https://localhost:8080/"
        },
        "id": "b7SiLCYhxp3V",
        "outputId": "9c6f3670-fba6-4b26-939b-d56dbce94b6c"
      },
      "outputs": [
        {
          "name": "stdout",
          "output_type": "stream",
          "text": [
            "SVM Model Performance:\n",
            "Accuracy: 0.9273\n",
            "Precision: 0.9300\n",
            "Recall: 0.9271\n",
            "F1 Score: 0.9268\n",
            "\n"
          ]
        }
      ],
      "source": [
        "#SVM\n",
        "svm_model = SVC()\n",
        "svm_model.fit(features_train_normalized, Encoded_labels_train)\n",
        "\n",
        "# Predict on validation set\n",
        "svm_preds = svm_model.predict(features_dev_normalized)\n",
        "\n",
        "# Evaluate SVM Model\n",
        "svm_accuracy = accuracy_score(Encoded_labels_dev, svm_preds)\n",
        "svm_precision = precision_score(Encoded_labels_dev, svm_preds, average='macro', zero_division=0)\n",
        "svm_recall = recall_score(Encoded_labels_dev, svm_preds, average='macro', zero_division=0)\n",
        "svm_f1 = f1_score(Encoded_labels_dev, svm_preds, average='macro', zero_division=0)\n",
        "\n",
        "print(\"SVM Model Performance:\")\n",
        "print(f\"Accuracy: {svm_accuracy:.4f}\")\n",
        "print(f\"Precision: {svm_precision:.4f}\")\n",
        "print(f\"Recall: {svm_recall:.4f}\")\n",
        "print(f\"F1 Score: {svm_f1:.4f}\")\n",
        "print()\n",
        "\n",
        "\n"
      ]
    },
    {
      "cell_type": "code",
      "execution_count": 44,
      "metadata": {
        "colab": {
          "base_uri": "https://localhost:8080/"
        },
        "id": "8GCWEezZxqQG",
        "outputId": "ea7df8da-f69c-47f0-bc88-4aa3d6329823"
      },
      "outputs": [
        {
          "name": "stderr",
          "output_type": "stream",
          "text": [
            "/usr/local/lib/python3.11/dist-packages/xgboost/core.py:158: UserWarning: [15:06:41] WARNING: /workspace/src/learner.cc:740: \n",
            "Parameters: { \"use_label_encoder\" } are not used.\n",
            "\n",
            "  warnings.warn(smsg, UserWarning)\n"
          ]
        },
        {
          "name": "stdout",
          "output_type": "stream",
          "text": [
            "XGBoost Model Performance:\n",
            "Accuracy: 0.9782\n",
            "Precision: 0.9779\n",
            "Recall: 0.9783\n",
            "F1 Score: 0.9781\n"
          ]
        }
      ],
      "source": [
        "#XGboost\n",
        "\n",
        "xgb_model = XGBClassifier(objective='multi:softmax', num_class=len(labels_train['label'].unique()), use_label_encoder=False, eval_metric='mlogloss')\n",
        "xgb_model.fit(features_train_normalized, Encoded_labels_train)\n",
        "\n",
        "# Predict on validation set\n",
        "xgb_preds = xgb_model.predict(features_dev_normalized)\n",
        "\n",
        "# Evaluate XGBoost Model\n",
        "xgb_accuracy = accuracy_score(Encoded_labels_dev, xgb_preds)\n",
        "xgb_precision = precision_score(Encoded_labels_dev, xgb_preds, average='macro', zero_division=0)\n",
        "xgb_recall = recall_score(Encoded_labels_dev, xgb_preds, average='macro', zero_division=0)\n",
        "xgb_f1 = f1_score(Encoded_labels_dev, xgb_preds, average='macro', zero_division=0)\n",
        "\n",
        "print(\"XGBoost Model Performance:\")\n",
        "print(f\"Accuracy: {xgb_accuracy:.4f}\")\n",
        "print(f\"Precision: {xgb_precision:.4f}\")\n",
        "print(f\"Recall: {xgb_recall:.4f}\")\n",
        "print(f\"F1 Score: {xgb_f1:.4f}\")"
      ]
    },
    {
      "cell_type": "code",
      "execution_count": 45,
      "metadata": {
        "colab": {
          "base_uri": "https://localhost:8080/"
        },
        "id": "D97CHqfP1AlT",
        "outputId": "3228261e-cadc-4471-a416-56178aa425db"
      },
      "outputs": [
        {
          "name": "stdout",
          "output_type": "stream",
          "text": [
            "Random Forest Model Performance:\n",
            "Accuracy: 0.9730\n",
            "Precision: 0.9733\n",
            "Recall: 0.9728\n",
            "F1 Score: 0.9730\n",
            "\n"
          ]
        }
      ],
      "source": [
        "#RandomForest\n",
        "\n",
        "rf_model = RandomForestClassifier()\n",
        "rf_model.fit(features_train_normalized, Encoded_labels_train)\n",
        "\n",
        "# Predict on validation set\n",
        "rf_preds = rf_model.predict(features_dev_normalized)\n",
        "\n",
        "# Evaluate Random Forest Model\n",
        "rf_accuracy = accuracy_score(Encoded_labels_dev, rf_preds)\n",
        "rf_precision = precision_score(Encoded_labels_dev, rf_preds, average='macro', zero_division=0)\n",
        "rf_recall = recall_score(Encoded_labels_dev, rf_preds, average='macro', zero_division=0)\n",
        "rf_f1 = f1_score(Encoded_labels_dev, rf_preds, average='macro', zero_division=0)\n",
        "\n",
        "print(\"Random Forest Model Performance:\")\n",
        "print(f\"Accuracy: {rf_accuracy:.4f}\")\n",
        "print(f\"Precision: {rf_precision:.4f}\")\n",
        "print(f\"Recall: {rf_recall:.4f}\")\n",
        "print(f\"F1 Score: {rf_f1:.4f}\")\n",
        "print()\n"
      ]
    },
    {
      "cell_type": "code",
      "execution_count": 49,
      "metadata": {
        "colab": {
          "base_uri": "https://localhost:8080/"
        },
        "id": "NJ-X5XCT8Fsc",
        "outputId": "e92fcee8-c7ac-435f-e479-ac77a0f867f8"
      },
      "outputs": [
        {
          "name": "stdout",
          "output_type": "stream",
          "text": [
            "GradientBoosting Model Performance:\n",
            "Accuracy: 0.9746\n",
            "Precision: 0.9751\n",
            "Recall: 0.9745\n",
            "F1 Score: 0.9747\n"
          ]
        }
      ],
      "source": [
        "# GradientBoosting model\n",
        "\n",
        "gb_model = GradientBoostingClassifier(n_estimators=100)  # You can adjust the number of estimators\n",
        "gb_model.fit(features_train_normalized, Encoded_labels_train)\n",
        "\n",
        "# Predict on validation set\n",
        "gb_preds = gb_model.predict(features_dev_normalized)\n",
        "\n",
        "# Evaluate GradientBoosting Model\n",
        "gb_accuracy = accuracy_score(Encoded_labels_dev, gb_preds)\n",
        "gb_precision = precision_score(Encoded_labels_dev, gb_preds, average='macro', zero_division=0)\n",
        "gb_recall = recall_score(Encoded_labels_dev, gb_preds, average='macro', zero_division=0)\n",
        "gb_f1 = f1_score(Encoded_labels_dev, gb_preds, average='macro', zero_division=0)\n",
        "\n",
        "# Print GradientBoosting results\n",
        "print(\"GradientBoosting Model Performance:\")\n",
        "print(f\"Accuracy: {gb_accuracy:.4f}\")\n",
        "print(f\"Precision: {gb_precision:.4f}\")\n",
        "print(f\"Recall: {gb_recall:.4f}\")\n",
        "print(f\"F1 Score: {gb_f1:.4f}\")"
      ]
    },
    {
      "cell_type": "code",
      "execution_count": 50,
      "metadata": {
        "colab": {
          "base_uri": "https://localhost:8080/"
        },
        "id": "I1iTvkzz8KZl",
        "outputId": "0e5525e1-f0d3-41b1-b588-456662bf00b5"
      },
      "outputs": [
        {
          "name": "stdout",
          "output_type": "stream",
          "text": [
            "Logistic Regression Model Performance:\n",
            "Accuracy: 0.8489\n",
            "Precision: 0.8550\n",
            "Recall: 0.8537\n",
            "F1 Score: 0.8525\n"
          ]
        }
      ],
      "source": [
        "#Logistic Regression Model\n",
        "\n",
        "logreg_model = LogisticRegression(max_iter=1000)\n",
        "logreg_model.fit(features_train_normalized, Encoded_labels_train)  # Train on training data\n",
        "\n",
        "# Predict on validation set\n",
        "logreg_preds = logreg_model.predict(features_dev_normalized)\n",
        "\n",
        "# Evaluate Logistic Regression Model\n",
        "logreg_accuracy = accuracy_score(Encoded_labels_dev, logreg_preds)\n",
        "logreg_precision = precision_score(Encoded_labels_dev, logreg_preds, average='macro', zero_division=0)\n",
        "logreg_recall = recall_score(Encoded_labels_dev, logreg_preds, average='macro', zero_division=0)\n",
        "logreg_f1 = f1_score(Encoded_labels_dev, logreg_preds, average='macro', zero_division=0)\n",
        "\n",
        "print(\"Logistic Regression Model Performance:\")\n",
        "print(f\"Accuracy: {logreg_accuracy:.4f}\")\n",
        "print(f\"Precision: {logreg_precision:.4f}\")\n",
        "print(f\"Recall: {logreg_recall:.4f}\")\n",
        "print(f\"F1 Score: {logreg_f1:.4f}\")\n"
      ]
    },
    {
      "cell_type": "code",
      "execution_count": 52,
      "metadata": {
        "colab": {
          "base_uri": "https://localhost:8080/"
        },
        "id": "aJK28Lzk9m0U",
        "outputId": "3fa06ce3-caa8-4ff2-da00-fc523749c32e"
      },
      "outputs": [
        {
          "name": "stdout",
          "output_type": "stream",
          "text": [
            "K-Nearest Neighbors Model Performance:\n",
            "Accuracy: 0.9746\n",
            "Precision: 0.9751\n",
            "Recall: 0.9749\n",
            "F1 Score: 0.9749\n"
          ]
        }
      ],
      "source": [
        "# KNN Model\n",
        "\n",
        "knn_model = KNeighborsClassifier(n_neighbors=5)\n",
        "knn_model.fit(features_train_normalized, Encoded_labels_train)\n",
        "\n",
        "# Predict on validation set\n",
        "knn_preds = knn_model.predict(features_dev_normalized)\n",
        "\n",
        "# Evaluate KNN Model\n",
        "knn_accuracy = accuracy_score(Encoded_labels_dev, knn_preds)\n",
        "knn_precision = precision_score(Encoded_labels_dev, knn_preds, average='macro', zero_division=0)\n",
        "knn_recall = recall_score(Encoded_labels_dev, knn_preds, average='macro', zero_division=0)\n",
        "knn_f1 = f1_score(Encoded_labels_dev, knn_preds, average='macro', zero_division=0)\n",
        "\n",
        "print(\"K-Nearest Neighbors Model Performance:\")\n",
        "print(f\"Accuracy: {knn_accuracy:.4f}\")\n",
        "print(f\"Precision: {knn_precision:.4f}\")\n",
        "print(f\"Recall: {knn_recall:.4f}\")\n",
        "print(f\"F1 Score: {knn_f1:.4f}\")\n"
      ]
    },
    {
      "cell_type": "markdown",
      "metadata": {
        "id": "1Pxw7uxAWd75"
      },
      "source": [
        "After training all six models, the results showed that **XGBoost** was the most promising, **achieving a high accuracy scores of 97.8%**. Given its strong performance, we will proceed to fine-tune the hyperparameters of the model to further optimize its results."
      ]
    },
    {
      "cell_type": "markdown",
      "metadata": {
        "id": "MpobEobOCjBL"
      },
      "source": [
        "# **Hyperparameters Tuning**"
      ]
    },
    {
      "cell_type": "code",
      "execution_count": 10,
      "metadata": {},
      "outputs": [
        {
          "name": "stdout",
          "output_type": "stream",
          "text": [
            "Fitting 3 folds for each of 108 candidates, totalling 324 fits\n"
          ]
        },
        {
          "name": "stderr",
          "output_type": "stream",
          "text": [
            "c:\\Users\\habib\\AppData\\Local\\Programs\\Python\\Python312\\Lib\\site-packages\\xgboost\\core.py:160: UserWarning: [01:52:24] WARNING: C:\\buildkite-agent\\builds\\buildkite-windows-cpu-autoscaling-group-i-0b3782d1791676daf-1\\xgboost\\xgboost-ci-windows\\src\\c_api\\c_api.cc:1240: Saving into deprecated binary model format, please consider using `json` or `ubj`. Model format will default to JSON in XGBoost 2.2 if not specified.\n",
            "  warnings.warn(smsg, UserWarning)\n",
            "2025/06/01 01:52:55 WARNING mlflow.models.model: Model logged without a signature and input example. Please set `input_example` parameter when logging the model to auto infer the model signature.\n"
          ]
        },
        {
          "name": "stdout",
          "output_type": "stream",
          "text": [
            "Best Hyperparameters: {'colsample_bytree': 0.8, 'learning_rate': 0.1, 'max_depth': 7, 'n_estimators': 300, 'subsample': 0.5}\n",
            "Accuracy: 0.9810\n",
            "Precision: 0.9808\n",
            "Recall: 0.9804\n",
            "F1 Score: 0.9805\n"
          ]
        }
      ],
      "source": [
        "import mlflow\n",
        "import mlflow.xgboost\n",
        "from xgboost import XGBClassifier\n",
        "\n",
        "# Define XGBoost hyperparameters grid\n",
        "xgb_param_grid = {\n",
        "    'learning_rate': [0.1, 0.2, 0.3],\n",
        "    'max_depth': [3, 5, 7],\n",
        "    'n_estimators': [100, 200, 300],\n",
        "    'subsample': [0.5 , 0.8],\n",
        "    'colsample_bytree': [0.5 , 0.8]\n",
        "}\n",
        "\n",
        "\n",
        "# Start an MLflow experiment (optional, set a meaningful experiment name)\n",
        "mlflow.set_experiment(\"XGBoost Hand Gesture Tuning\")\n",
        "\n",
        "with mlflow.start_run(run_name=\"GridSearchCV tuning\"):\n",
        "    # Log all the param grid (optional, for info)\n",
        "    mlflow.log_param(\"param_grid\", xgb_param_grid)\n",
        "\n",
        "    # Initialize model and GridSearchCV\n",
        "    xgb_model = XGBClassifier(objective='multi:softmax', \n",
        "                              num_class=len(labels_train['label'].unique()),\n",
        "                              use_label_encoder=False, eval_metric='mlogloss')\n",
        "\n",
        "    xgb_grid = GridSearchCV(xgb_model, xgb_param_grid, cv=3, scoring='f1_macro', n_jobs=-1, verbose=2)\n",
        "    xgb_grid.fit(features_train_normalized, Encoded_labels_train)\n",
        "\n",
        "    best_xgb_params = xgb_grid.best_params_\n",
        "    best_model = xgb_grid.best_estimator_\n",
        "\n",
        "    # Predict on dev set and calculate metrics\n",
        "    xgb_preds = best_model.predict(features_dev_normalized)\n",
        "    xgb_accuracy = accuracy_score(Encoded_labels_dev, xgb_preds)\n",
        "    xgb_precision = precision_score(Encoded_labels_dev, xgb_preds, average='macro', zero_division=0)\n",
        "    xgb_recall = recall_score(Encoded_labels_dev, xgb_preds, average='macro', zero_division=0)\n",
        "    xgb_f1 = f1_score(Encoded_labels_dev, xgb_preds, average='macro', zero_division=0)\n",
        "\n",
        "    # Log best hyperparameters\n",
        "    for param_name, param_value in best_xgb_params.items():\n",
        "        mlflow.log_param(param_name, param_value)\n",
        "\n",
        "    # Log metrics\n",
        "    mlflow.log_metric(\"accuracy\", xgb_accuracy)\n",
        "    mlflow.log_metric(\"precision\", xgb_precision)\n",
        "    mlflow.log_metric(\"recall\", xgb_recall)\n",
        "    mlflow.log_metric(\"f1_score\", xgb_f1)\n",
        "\n",
        "    # Log the best model\n",
        "    mlflow.xgboost.log_model(best_model, artifact_path=\"best_xgb_model\")\n",
        "\n",
        "    print(\"Best Hyperparameters:\", best_xgb_params)\n",
        "    print(f\"Accuracy: {xgb_accuracy:.4f}\")\n",
        "    print(f\"Precision: {xgb_precision:.4f}\")\n",
        "    print(f\"Recall: {xgb_recall:.4f}\")\n",
        "    print(f\"F1 Score: {xgb_f1:.4f}\")\n"
      ]
    },
    {
      "cell_type": "markdown",
      "metadata": {
        "id": "jZ93vZQJcBOA"
      },
      "source": [
        "After performing hyperparameter tuning on the XGBoost model, we identified the optimal combination of parameters that yielded the best performance. The best hyperparameters found were: **colsample_bytree = 0.8, learning_rate = 0.3, max_depth = 5, n_estimators = 200, and subsample = 0.8.**"
      ]
    },
    {
      "cell_type": "markdown",
      "metadata": {
        "id": "ONI2MhEXXXtE"
      },
      "source": [
        "# **Final Model Evaluation**"
      ]
    },
    {
      "cell_type": "markdown",
      "metadata": {
        "id": "PJ-VfTUfcpj0"
      },
      "source": [
        "Now that we have identified the best hyperparameters from the grid search, we will retrain the XGBoost model using these optimal settings. For this final training phase, **we will combine the training and validation sets** to make full use of the available data and improve the model's learning. After training, **we will evaluate the model on the separate test set to accurately estimate its generalization error** and assess how well it performs on unseen data."
      ]
    },
    {
      "cell_type": "code",
      "execution_count": 12,
      "metadata": {},
      "outputs": [],
      "source": [
        "# Combine train and dev data\n",
        "X_train = np.vstack((features_train_normalized, features_dev_normalized))\n",
        "y_train = np.hstack((Encoded_labels_train, Encoded_labels_dev))\n",
        "\n",
        "# Convert test data\n",
        "X_test = features_test_normalized\n",
        "y_test = Encoded_labels_test"
      ]
    },
    {
      "cell_type": "code",
      "execution_count": 13,
      "metadata": {},
      "outputs": [
        {
          "name": "stderr",
          "output_type": "stream",
          "text": [
            "c:\\Users\\habib\\AppData\\Local\\Programs\\Python\\Python312\\Lib\\site-packages\\xgboost\\core.py:160: UserWarning: [01:56:01] WARNING: C:\\buildkite-agent\\builds\\buildkite-windows-cpu-autoscaling-group-i-0b3782d1791676daf-1\\xgboost\\xgboost-ci-windows\\src\\c_api\\c_api.cc:1240: Saving into deprecated binary model format, please consider using `json` or `ubj`. Model format will default to JSON in XGBoost 2.2 if not specified.\n",
            "  warnings.warn(smsg, UserWarning)\n",
            "2025/06/01 01:56:09 WARNING mlflow.models.model: Model logged without a signature and input example. Please set `input_example` parameter when logging the model to auto infer the model signature.\n"
          ]
        },
        {
          "name": "stdout",
          "output_type": "stream",
          "text": [
            "Test Accuracy: 0.9818\n",
            "Precision: 0.9820\n",
            "Recall: 0.9818\n",
            "F1 Score: 0.9818\n",
            "Model saved as 'xgboost_modelVS.pkl'\n"
          ]
        }
      ],
      "source": [
        "import mlflow\n",
        "import mlflow.xgboost\n",
        "import joblib\n",
        "\n",
        "# Start an MLflow experiment for final training\n",
        "mlflow.set_experiment(\"XGBoost Hand Gesture Final Training\")\n",
        "\n",
        "with mlflow.start_run(run_name=\"Final Model Training\"):\n",
        "\n",
        "    # Log best hyperparameters manually\n",
        "    mlflow.log_param(\"colsample_bytree\", 0.8)\n",
        "    mlflow.log_param(\"learning_rate\", 0.3)\n",
        "    mlflow.log_param(\"max_depth\", 5)\n",
        "    mlflow.log_param(\"n_estimators\", 200)\n",
        "    mlflow.log_param(\"subsample\", 0.8)\n",
        "    mlflow.log_param(\"use_label_encoder\", False)\n",
        "\n",
        "    # Define the model with best hyperparameters\n",
        "    xgb_model = xgb.XGBClassifier(\n",
        "        colsample_bytree=0.8,\n",
        "        learning_rate=0.3,\n",
        "        max_depth=5,\n",
        "        n_estimators=200,\n",
        "        subsample=0.8,\n",
        "        use_label_encoder=False\n",
        "    )\n",
        "\n",
        "    # Train the model\n",
        "    xgb_model.fit(X_train, y_train)\n",
        "\n",
        "    # Make predictions on test data\n",
        "    y_pred = xgb_model.predict(X_test)\n",
        "\n",
        "    # Calculate evaluation metrics\n",
        "    accuracy = accuracy_score(y_test, y_pred)\n",
        "    precision = precision_score(y_test, y_pred, average='weighted')\n",
        "    recall = recall_score(y_test, y_pred, average='weighted')\n",
        "    f1 = f1_score(y_test, y_pred, average='weighted')\n",
        "\n",
        "    # Log metrics\n",
        "    mlflow.log_metric(\"test_accuracy\", accuracy)\n",
        "    mlflow.log_metric(\"test_precision\", precision)\n",
        "    mlflow.log_metric(\"test_recall\", recall)\n",
        "    mlflow.log_metric(\"test_f1_score\", f1)\n",
        "\n",
        "    # Log the model artifact\n",
        "    mlflow.xgboost.log_model(xgb_model, artifact_path=\"final_xgb_model\")\n",
        "\n",
        "    # Save model locally \n",
        "    joblib.dump(xgb_model, \"xgboost_modelVS.pkl\")\n",
        "\n",
        "    print(f\"Test Accuracy: {accuracy:.4f}\")\n",
        "    print(f\"Precision: {precision:.4f}\")\n",
        "    print(f\"Recall: {recall:.4f}\")\n",
        "    print(f\"F1 Score: {f1:.4f}\")\n",
        "    print(\"Model saved as 'xgboost_modelVS.pkl'\")\n"
      ]
    },
    {
      "cell_type": "markdown",
      "metadata": {
        "id": "8VTveG-5dZ3A"
      },
      "source": [
        "Finally, after training the model with the optimal hyperparameters and evaluating it on the test set, we achieved **a test accuracy of 98.36%**, which indicates excellent performance and strong generalization to unseen data."
      ]
    },
    {
      "cell_type": "markdown",
      "metadata": {
        "id": "s6Y7onyGYAT8"
      },
      "source": [
        "# **Mediapipe Config**"
      ]
    },
    {
      "cell_type": "code",
      "execution_count": null,
      "metadata": {},
      "outputs": [],
      "source": [
        "\n",
        "\n",
        "xgb_model = joblib.load(\"xgboost_modelVS.pkl\")\n",
        "\n",
        "\n",
        "def preprocess_landmarks(landmarks):\n",
        "    # Extract all coordinates (x,y,z)\n",
        "    data = {}\n",
        "    for i in range(21):\n",
        "        data[f'x{i+1}'] = landmarks.landmark[i].x\n",
        "        data[f'y{i+1}'] = landmarks.landmark[i].y\n",
        "        data[f'z{i+1}'] = landmarks.landmark[i].z  \n",
        "    \n",
        "    # Apply normalization to x and y only\n",
        "    normalized_data = recenter_and_normalize_xy(data)\n",
        "    return normalized_data\n",
        "\n",
        "def recenter_and_normalize_xy(data):\n",
        "    wrist_x = data['x1']\n",
        "    wrist_y = data['y1']\n",
        "    mid_finger_x = data['x13']\n",
        "    mid_finger_y = data['y13']\n",
        "\n",
        "    scale = np.sqrt((mid_finger_x - wrist_x)**2 + (mid_finger_y - wrist_y)**2)\n",
        "    scale = 1 if scale == 0 else scale  \n",
        "\n",
        "    normalized_data = {}\n",
        "    for i in range(1, 22):\n",
        "        normalized_data[f'x{i}'] = (data[f'x{i}'] - wrist_x) / scale\n",
        "        normalized_data[f'y{i}'] = (data[f'y{i}'] - wrist_y) / scale\n",
        "        normalized_data[f'z{i}'] = data[f'z{i}']  # Keep z as is\n",
        "    \n",
        "    return normalized_data\n",
        "\n",
        "def process_video(input_path, output_path):\n",
        "    cap = cv2.VideoCapture(input_path)\n",
        "    frame_width = int(cap.get(cv2.CAP_PROP_FRAME_WIDTH))\n",
        "    frame_height = int(cap.get(cv2.CAP_PROP_FRAME_HEIGHT))\n",
        "    fps = cap.get(cv2.CAP_PROP_FPS)\n",
        "    \n",
        "    fourcc = cv2.VideoWriter_fourcc(*'mp4v')\n",
        "    out = cv2.VideoWriter(output_path, fourcc, fps, (frame_width, frame_height))\n",
        "    \n",
        "    # Enhanced drawing specs for very visible landmarks\n",
        "    landmark_drawing_spec = mp.solutions.drawing_utils.DrawingSpec(\n",
        "        color=(0, 0, 0),  # Pure black\n",
        "        thickness=-1,      # Filled circles\n",
        "        circle_radius=6    # Much larger dots \n",
        "    )\n",
        "    \n",
        "    connection_drawing_spec = mp.solutions.drawing_utils.DrawingSpec(\n",
        "        color=(255, 255, 255),  # White connections\n",
        "        thickness=3,            # Thicker connections\n",
        "        circle_radius=1\n",
        "    )\n",
        "    \n",
        "    with mp.solutions.hands.Hands(\n",
        "        static_image_mode=False,\n",
        "        max_num_hands=1,\n",
        "        min_detection_confidence=0.5,\n",
        "        min_tracking_confidence=0.5) as hands:\n",
        "        \n",
        "        while cap.isOpened():\n",
        "            success, image = cap.read()\n",
        "            if not success:\n",
        "                break\n",
        "                \n",
        "            image = cv2.cvtColor(image, cv2.COLOR_BGR2RGB)\n",
        "            results = hands.process(image)\n",
        "            image = cv2.cvtColor(image, cv2.COLOR_RGB2BGR)\n",
        "            \n",
        "            if results.multi_hand_landmarks:\n",
        "                for hand_landmarks in results.multi_hand_landmarks:\n",
        "                    mp.solutions.drawing_utils.draw_landmarks(\n",
        "                        image, \n",
        "                        hand_landmarks, \n",
        "                        mp.solutions.hands.HAND_CONNECTIONS,\n",
        "                        landmark_drawing_spec=landmark_drawing_spec,\n",
        "                        connection_drawing_spec=connection_drawing_spec)\n",
        "                    \n",
        "                    # Preprocess landmarks\n",
        "                    normalized_data = preprocess_landmarks(hand_landmarks)\n",
        "                    \n",
        "                    # Create feature vector\n",
        "                    features = []\n",
        "                    for i in range(1, 22):\n",
        "                        features.extend([\n",
        "                            normalized_data[f'x{i}'],\n",
        "                            normalized_data[f'y{i}'],\n",
        "                            normalized_data[f'z{i}']\n",
        "                        ])\n",
        "                    features = np.array(features).reshape(1, -1)\n",
        "                    \n",
        "                    # Predict gesture\n",
        "                    pred = xgb_model.predict(features)\n",
        "                    gesture = encoder.inverse_transform(pred)[0]\n",
        "                    \n",
        "                    # Enhanced text display with black bold text\n",
        "                    text = f\"Gesture: {gesture}\"\n",
        "                    (text_width, text_height), _ = cv2.getTextSize(\n",
        "                        text, cv2.FONT_HERSHEY_DUPLEX, 1.5, 4)\n",
        "                    \n",
        "                    # Text background rectangle\n",
        "                    cv2.rectangle(image, \n",
        "                                (10, 10), \n",
        "                                (20 + text_width, 40 + text_height), \n",
        "                                (255, 255, 255), -1)\n",
        "                    \n",
        "                    # Black bold text with outline\n",
        "                    cv2.putText(image, text, (20, 40),\n",
        "                               cv2.FONT_HERSHEY_DUPLEX, 1.5, \n",
        "                               (0, 0, 0), 4, cv2.LINE_AA)\n",
        "            \n",
        "            out.write(image)\n",
        "            cv2.imshow('Hand Gesture Recognition', image)\n",
        "            if cv2.waitKey(5) & 0xFF == 27:\n",
        "                break\n",
        "    \n",
        "    cap.release()\n",
        "    out.release()\n",
        "    cv2.destroyAllWindows()\n",
        "\n",
        "# Usage example\n",
        "process_video('meeee.mp4', 'annotated_2output.mp4')"
      ]
    },
    {
      "cell_type": "code",
      "execution_count": null,
      "metadata": {},
      "outputs": [],
      "source": []
    }
  ],
  "metadata": {
    "colab": {
      "provenance": []
    },
    "kernelspec": {
      "display_name": "Python 3",
      "name": "python3"
    },
    "language_info": {
      "codemirror_mode": {
        "name": "ipython",
        "version": 3
      },
      "file_extension": ".py",
      "mimetype": "text/x-python",
      "name": "python",
      "nbconvert_exporter": "python",
      "pygments_lexer": "ipython3",
      "version": "3.12.1"
    }
  },
  "nbformat": 4,
  "nbformat_minor": 0
}
